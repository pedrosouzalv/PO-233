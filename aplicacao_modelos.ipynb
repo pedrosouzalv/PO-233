{
 "cells": [
  {
   "cell_type": "markdown",
   "metadata": {},
   "source": [
    "## Descrição do Notebook\n",
    "\n",
    "1. Aplicação de Modelos\n",
    "\n",
    "2. Avaliação dos Modelos\n",
    "\n",
    "3. Problema de otmização"
   ]
  },
  {
   "cell_type": "code",
   "execution_count": 1,
   "metadata": {},
   "outputs": [],
   "source": [
    "import numpy as np \n",
    "import pandas as pd \n",
    "import matplotlib.pyplot as plt\n",
    "from sklearn.model_selection import train_test_split\n",
    "seed = 42"
   ]
  },
  {
   "cell_type": "code",
   "execution_count": 2,
   "metadata": {},
   "outputs": [],
   "source": [
    "data = pd.read_csv('processed_data.csv')"
   ]
  },
  {
   "cell_type": "code",
   "execution_count": 3,
   "metadata": {},
   "outputs": [],
   "source": [
    "data_train, data_test = train_test_split(data,test_size=0.2,random_state=42)\n",
    "\n",
    "data_train = data_train.reset_index(drop=True)\n",
    "data_test = data_test.reset_index(drop=True)\n",
    "\n",
    "X_train = data_train.drop('y',axis=1).copy()\n",
    "y_train = data_train[['y']].copy()\n",
    "\n",
    "X_test = data_test.drop('y',axis=1).copy()\n",
    "y_test = data_test[['y']].copy()"
   ]
  },
  {
   "cell_type": "markdown",
   "metadata": {},
   "source": [
    "### 1. Aplicação dos Modelos\n",
    "\n",
    "1. kNN\n",
    "2. Decision Tree\n",
    "3. Naïve Bayes\n",
    "4. SVM\n",
    "\n",
    "> Uso de **Grid Search** para hiperparametrização e de **Cross Validation** para avaliação dos modelos\n",
    "\n",
    "- Avalicação de voting (ensemble)"
   ]
  },
  {
   "cell_type": "code",
   "execution_count": 4,
   "metadata": {},
   "outputs": [],
   "source": [
    "algorithms = {}"
   ]
  },
  {
   "cell_type": "code",
   "execution_count": 5,
   "metadata": {},
   "outputs": [],
   "source": [
    "from sklearn.model_selection import GridSearchCV, StratifiedKFold\n",
    "gscv = StratifiedKFold(n_splits=3, shuffle=True, random_state=seed)"
   ]
  },
  {
   "cell_type": "markdown",
   "metadata": {},
   "source": [
    "1.1 kNN"
   ]
  },
  {
   "cell_type": "code",
   "execution_count": 6,
   "metadata": {},
   "outputs": [],
   "source": [
    "from sklearn.neighbors import KNeighborsClassifier\n",
    "algorithms['kNN'] =  GridSearchCV(\n",
    "                                    KNeighborsClassifier(), \n",
    "                                    param_grid={\n",
    "                                                'n_neighbors': [1, 3, 5],\n",
    "                                                'p': [1, 2]\n",
    "                                                },\n",
    "                                    scoring='recall',\n",
    "                                    cv=gscv\n",
    "                                )"
   ]
  },
  {
   "cell_type": "markdown",
   "metadata": {},
   "source": [
    "1.2 Decision Tree"
   ]
  },
  {
   "cell_type": "code",
   "execution_count": 7,
   "metadata": {},
   "outputs": [],
   "source": [
    "from sklearn.tree import DecisionTreeClassifier\n",
    "algorithms['tree'] =  GridSearchCV(\n",
    "                                    DecisionTreeClassifier(random_state=seed), \n",
    "                                    param_grid={\n",
    "                                                'max_depth': [3, 6, 12],\n",
    "                                                'criterion': ['entropy', 'gini']\n",
    "                                                },\n",
    "                                    scoring='recall',\n",
    "                                    cv=gscv\n",
    "                                )"
   ]
  },
  {
   "cell_type": "markdown",
   "metadata": {},
   "source": [
    "1.3 Naïve Bayes"
   ]
  },
  {
   "cell_type": "code",
   "execution_count": 8,
   "metadata": {},
   "outputs": [],
   "source": [
    "from sklearn.naive_bayes import GaussianNB\n",
    "algorithms['nb'] =  GridSearchCV(\n",
    "                                    GaussianNB(), \n",
    "                                    param_grid={'var_smoothing': np.logspace(-8,-10, num=5)},\n",
    "                                    scoring='recall',\n",
    "                                    cv=gscv\n",
    "                                )"
   ]
  },
  {
   "cell_type": "markdown",
   "metadata": {},
   "source": [
    "1.4 Logistic Regression"
   ]
  },
  {
   "cell_type": "code",
   "execution_count": 72,
   "metadata": {},
   "outputs": [],
   "source": [
    "from sklearn.linear_model import LogisticRegression\n",
    "algorithms['lr'] =  GridSearchCV(\n",
    "                                    LogisticRegression(random_state=seed, max_iter=1000), \n",
    "                                    param_grid={\n",
    "                                                'penalty':['l2', 'none'],\n",
    "                                                'tol': [1e-3, 1e-4],\n",
    "                                                'solver': ['lbfgs', 'saga']\n",
    "                                                },\n",
    "                                    scoring='recall',\n",
    "                                    cv=gscv\n",
    "                                )"
   ]
  },
  {
   "cell_type": "markdown",
   "metadata": {},
   "source": [
    "1.5 Random Forest"
   ]
  },
  {
   "cell_type": "code",
   "execution_count": 70,
   "metadata": {},
   "outputs": [],
   "source": [
    "from sklearn.ensemble import RandomForestClassifier\n",
    "algorithms['rf'] =  GridSearchCV(\n",
    "                                    RandomForestClassifier(), \n",
    "                                    param_grid={ \n",
    "                                                'n_estimators': [300, 250, 500, 600],\n",
    "                                                'max_features': ['auto', 'sqrt', 'log2'],\n",
    "                                                'max_depth' : [4,5,6,7,8],\n",
    "                                                'criterion' :['gini', 'entropy']\n",
    "                                            },\n",
    "                                    scoring='recall',\n",
    "                                    cv=gscv\n",
    "                                )"
   ]
  },
  {
   "cell_type": "markdown",
   "metadata": {},
   "source": [
    "1.6 Tunning dos Modelos"
   ]
  },
  {
   "cell_type": "code",
   "execution_count": 9,
   "metadata": {},
   "outputs": [],
   "source": [
    "tunned_models = {}"
   ]
  },
  {
   "cell_type": "code",
   "execution_count": 10,
   "metadata": {},
   "outputs": [
    {
     "name": "stdout",
     "output_type": "stream",
     "text": [
      "Grid Search - kNN\n",
      "kNN - Finished\n",
      "Grid Search - tree\n",
      "tree - Finished\n",
      "Grid Search - nb\n",
      "nb - Finished\n"
     ]
    }
   ],
   "source": [
    "for model in algorithms.keys():\n",
    "    print('Grid Search -', model)\n",
    "    tunned_models[model] = algorithms[model].fit(X_train.values, y_train['y'].values)\n",
    "    print(model,'- Finished')"
   ]
  },
  {
   "cell_type": "code",
   "execution_count": 73,
   "metadata": {},
   "outputs": [
    {
     "name": "stdout",
     "output_type": "stream",
     "text": [
      "Grid Search - lr\n",
      "lr - Finished\n",
      "Grid Search - rf\n"
     ]
    }
   ],
   "source": [
    "for model in ['lr','rf', 'voting']:\n",
    "    print('Grid Search -', model)\n",
    "    tunned_models[model] = algorithms[model].fit(X_train.values, y_train['y'].values)\n",
    "    print(model,'- Finished')"
   ]
  },
  {
   "cell_type": "markdown",
   "metadata": {},
   "source": [
    "1.7 Método de Voting"
   ]
  },
  {
   "cell_type": "code",
   "execution_count": null,
   "metadata": {},
   "outputs": [],
   "source": [
    "from sklearn.ensemble import VotingClassifier\n",
    "tunned_models['voting'] = VotingClassifier(\n",
    "                                                estimators = [(model, tunned_models[model]) for model in tunned_models.keys()],\n",
    "                                                voting='soft'\n",
    "                                            )"
   ]
  },
  {
   "cell_type": "markdown",
   "metadata": {},
   "source": [
    "### 2. Avaliação dos Modelos"
   ]
  },
  {
   "cell_type": "markdown",
   "metadata": {},
   "source": [
    "#### 2.1 Validação Cruzada"
   ]
  },
  {
   "cell_type": "code",
   "execution_count": 28,
   "metadata": {},
   "outputs": [],
   "source": [
    "from sklearn.model_selection import cross_validate\n",
    "gscv = StratifiedKFold(n_splits=10, shuffle=True, random_state=seed)"
   ]
  },
  {
   "cell_type": "code",
   "execution_count": 29,
   "metadata": {},
   "outputs": [],
   "source": [
    "precision_scores = {}\n",
    "accuracy_scores  = {}\n",
    "recall_scores    = {}\n",
    "f1_scores        = {}"
   ]
  },
  {
   "cell_type": "code",
   "execution_count": 30,
   "metadata": {},
   "outputs": [
    {
     "name": "stdout",
     "output_type": "stream",
     "text": [
      "Evaluation - kNN\n",
      "kNN - Finished\n",
      "Evaluation - tree\n",
      "tree - Finished\n",
      "Evaluation - nb\n",
      "nb - Finished\n",
      "Evaluation - voting\n",
      "voting - Finished\n"
     ]
    }
   ],
   "source": [
    "for model in tunned_models.keys():\n",
    "    print('Evaluation -', model)\n",
    "    model_scores = cross_validate(tunned_models[model], \n",
    "                    X_train.values,\n",
    "                    y_train['y'].values,\n",
    "                    cv=gscv,\n",
    "                    scoring = ['accuracy','precision', 'recall', 'f1']\n",
    "                    )\n",
    "    precision_scores[model] = model_scores['test_precision']\n",
    "    accuracy_scores[model]  = model_scores['test_accuracy']\n",
    "    recall_scores[model]    = model_scores['test_recall']\n",
    "    f1_scores[model]        = model_scores['test_f1']\n",
    "    print(model,'- Finished')"
   ]
  },
  {
   "cell_type": "code",
   "execution_count": null,
   "metadata": {},
   "outputs": [],
   "source": [
    "for model in ['lr','rf', 'voting']:\n",
    "    print('Evaluation -', model)\n",
    "    model_scores = cross_validate(tunned_models[model], \n",
    "                    X_train.values,\n",
    "                    y_train['y'].values,\n",
    "                    cv=gscv,\n",
    "                    scoring = ['accuracy','precision', 'recall', 'f1']\n",
    "                    )\n",
    "    precision_scores[model] = model_scores['test_precision']\n",
    "    accuracy_scores[model]  = model_scores['test_accuracy']\n",
    "    recall_scores[model]    = model_scores['test_recall']\n",
    "    f1_scores[model]        = model_scores['test_f1']\n",
    "    print(model,'- Finished')"
   ]
  },
  {
   "cell_type": "code",
   "execution_count": 31,
   "metadata": {},
   "outputs": [],
   "source": [
    "precision_scores = pd.DataFrame(precision_scores)\n",
    "accuracy_scores  = pd.DataFrame(accuracy_scores)\n",
    "recall_scores    = pd.DataFrame(recall_scores)\n",
    "f1_scores        = pd.DataFrame(f1_scores)"
   ]
  },
  {
   "cell_type": "code",
   "execution_count": 32,
   "metadata": {},
   "outputs": [
    {
     "data": {
      "text/plain": [
       "kNN       0.34 ± 0.02\n",
       "tree      0.56 ± 0.02\n",
       "nb        0.37 ± 0.02\n",
       "voting    0.51 ± 0.02\n",
       "dtype: object"
      ]
     },
     "execution_count": 32,
     "metadata": {},
     "output_type": "execute_result"
    }
   ],
   "source": [
    "precision_scores.apply(lambda x: \"{:.2f} ± {:.2f}\".format(x.mean(), x.std()))"
   ]
  },
  {
   "cell_type": "code",
   "execution_count": 33,
   "metadata": {},
   "outputs": [
    {
     "data": {
      "text/plain": [
       "kNN       0.85 ± 0.01\n",
       "tree      0.89 ± 0.00\n",
       "nb        0.85 ± 0.01\n",
       "voting    0.89 ± 0.00\n",
       "dtype: object"
      ]
     },
     "execution_count": 33,
     "metadata": {},
     "output_type": "execute_result"
    }
   ],
   "source": [
    "accuracy_scores.apply(lambda x: \"{:.2f} ± {:.2f}\".format(x.mean(), x.std()))"
   ]
  },
  {
   "cell_type": "code",
   "execution_count": 34,
   "metadata": {},
   "outputs": [
    {
     "data": {
      "text/plain": [
       "kNN       0.34 ± 0.02\n",
       "tree      0.38 ± 0.02\n",
       "nb        0.42 ± 0.02\n",
       "voting    0.42 ± 0.02\n",
       "dtype: object"
      ]
     },
     "execution_count": 34,
     "metadata": {},
     "output_type": "execute_result"
    }
   ],
   "source": [
    "f1_scores.apply(lambda x: \"{:.2f} ± {:.2f}\".format(x.mean(), x.std()))"
   ]
  },
  {
   "cell_type": "code",
   "execution_count": 35,
   "metadata": {},
   "outputs": [
    {
     "data": {
      "text/plain": [
       "kNN       0.34 ± 0.02\n",
       "tree      0.29 ± 0.03\n",
       "nb        0.48 ± 0.02\n",
       "voting    0.36 ± 0.03\n",
       "dtype: object"
      ]
     },
     "execution_count": 35,
     "metadata": {},
     "output_type": "execute_result"
    }
   ],
   "source": [
    "recall_scores.apply(lambda x: \"{:.2f} ± {:.2f}\".format(x.mean(), x.std()))"
   ]
  },
  {
   "cell_type": "code",
   "execution_count": 36,
   "metadata": {},
   "outputs": [
    {
     "data": {
      "image/png": "[encoded data removed]",
      "text/plain": [
       "<Figure size 432x288 with 1 Axes>"
      ]
     },
     "metadata": {
      "needs_background": "light"
     },
     "output_type": "display_data"
    }
   ],
   "source": [
    "plt.boxplot([scores for alg, scores in recall_scores.iteritems() ])\n",
    "plt.xticks(1 + np.arange(recall_scores.shape[1]), recall_scores.columns)\n",
    "plt.show()"
   ]
  },
  {
   "cell_type": "markdown",
   "metadata": {},
   "source": [
    "#### 2.2 Teste de Hipóteses"
   ]
  },
  {
   "cell_type": "markdown",
   "metadata": {},
   "source": [
    "Para a comparação dos classificadores será utilizado o **Teste de Friedman**.\n",
    "\n",
    "O teste de Friedman classifica os algoritmos do melhor ao pior em cada conjunto de dados em relação ao seu desempenho. \n",
    "\n",
    "Sua hipótese nula ($H_0$) afirma que todos os algoritmos **são equivalentes e seus ranks médios são iguais**. \n",
    "\n",
    "\n",
    "Se o teste de Friedman gerar um p-valor muito pequeno (menor que o nível de signficancia $\\alpha$ = 0,05), podemos concluir que os desempenhos de todos os algoritmos não são equivalentes. "
   ]
  },
  {
   "cell_type": "code",
   "execution_count": 37,
   "metadata": {},
   "outputs": [
    {
     "data": {
      "text/plain": [
       "FriedmanchisquareResult(statistic=19.75075987841945, pvalue=0.01951442037378944)"
      ]
     },
     "execution_count": 37,
     "metadata": {},
     "output_type": "execute_result"
    }
   ],
   "source": [
    "from scipy.stats import friedmanchisquare, rankdata \n",
    "\n",
    "friedmanchisquare(*recall_scores.values)"
   ]
  },
  {
   "cell_type": "code",
   "execution_count": 38,
   "metadata": {},
   "outputs": [
    {
     "name": "stdout",
     "output_type": "stream",
     "text": [
      "kNN average rank: 2.7\n",
      "tree average rank: 4.0\n",
      "nb average rank: 1.0\n",
      "voting average rank: 2.3\n"
     ]
    }
   ],
   "source": [
    "ranks = np.array([rankdata(-p) for p in recall_scores.values])\n",
    "\n",
    "average_ranks = np.mean(ranks, axis=0) \n",
    "print('\\n'.join('{} average rank: {}'.format(a, r) for a, r in zip(tunned_models.keys(), average_ranks)))"
   ]
  },
  {
   "cell_type": "markdown",
   "metadata": {},
   "source": [
    "Como nem todos os classificadores são equivalentes, deverá ser feito um pós-teste.\n",
    "\n",
    "Primeiramente será utilizado o teste de **Nemenyi**, onde:\n",
    "\n",
    "    - Todos os classificadores são comparados entre si. \n",
    "    \n",
    "Na sequência será utilizado um teste de **Bonferroni-Dunn**, onde:\n",
    "\n",
    "    - Todos os classificadores são comparados a um classificador de controle. "
   ]
  },
  {
   "cell_type": "code",
   "execution_count": 45,
   "metadata": {},
   "outputs": [
    {
     "data": {
      "image/png": "[encoded data removed]",
      "text/plain": [
       "<Figure size 720x126 with 1 Axes>"
      ]
     },
     "metadata": {},
     "output_type": "display_data"
    }
   ],
   "source": [
    "from Orange.evaluation import compute_CD, graph_ranks\n",
    "\n",
    "#Teste de Nemenyi\n",
    "\n",
    "#diferença crítica\n",
    "cd = compute_CD(average_ranks, n=recall_scores.shape[0], alpha='0.1', test='nemenyi') \n",
    "\n",
    "#plot diagrama de diferença crítica\n",
    "graph_ranks(average_ranks,\n",
    "            names=list(tunned_models.keys()),\n",
    "            cd=cd, \n",
    "            width=10, \n",
    "            textspace=1.5, \n",
    "            reverse=True) \n",
    "\n",
    "plt.show()"
   ]
  },
  {
   "cell_type": "code",
   "execution_count": 46,
   "metadata": {},
   "outputs": [
    {
     "data": {
      "image/png": "[encoded data removed]",
      "text/plain": [
       "<Figure size 720x93.6 with 1 Axes>"
      ]
     },
     "metadata": {},
     "output_type": "display_data"
    }
   ],
   "source": [
    "#Teste de Bonferroni-Dunn\n",
    "\n",
    "#diferença crítica\n",
    "cd = compute_CD(average_ranks, n=recall_scores.shape[0], alpha='0.05', test='bonferroni-dunn') \n",
    "\n",
    "#plot diagrama de diferença crítica\n",
    "graph_ranks(average_ranks,\n",
    "            names=list(tunned_models.keys()),\n",
    "            cd=cd, \n",
    "            cdmethod=0,\n",
    "            width=10, \n",
    "            textspace=1.5, \n",
    "            reverse=True) \n",
    "\n",
    "plt.show()"
   ]
  },
  {
   "cell_type": "markdown",
   "metadata": {},
   "source": [
    "#### 2.3 Avaliação no Grupo de Teste"
   ]
  },
  {
   "cell_type": "code",
   "execution_count": 50,
   "metadata": {},
   "outputs": [
    {
     "data": {
      "text/plain": [
       "GaussianNB(var_smoothing=1e-08)"
      ]
     },
     "execution_count": 50,
     "metadata": {},
     "output_type": "execute_result"
    }
   ],
   "source": [
    "best_model = GaussianNB(var_smoothing = tunned_models['nb'].best_params_['var_smoothing'])\n",
    "best_model.fit(X_train.values, y_train['y'].values)"
   ]
  },
  {
   "cell_type": "markdown",
   "metadata": {},
   "source": [
    "### 3. Problema de Otimização"
   ]
  },
  {
   "cell_type": "markdown",
   "metadata": {},
   "source": [
    "#### 3.1 Probabilidade Interna"
   ]
  },
  {
   "cell_type": "code",
   "execution_count": 66,
   "metadata": {},
   "outputs": [
    {
     "name": "stdout",
     "output_type": "stream",
     "text": [
      "De 8238 pessoas, 1170 pessoas foram classificadas como potenciais compradores (14.2%).\n"
     ]
    }
   ],
   "source": [
    "probs_modelo = np.sort(best_model.predict_proba(X_test.values)[:,1])[::-1]\n",
    "Qt = len(probs_modelo)\n",
    "n = np.argwhere(probs_modelo > 0.4999).max()\n",
    "\n",
    "print(f'De {Qt} pessoas, {best_model.predict(X_test.values).sum()} pessoas foram classificadas como potenciais compradores ({round(best_model.predict(X_test.values).sum()/Qt,4)*100}%).')"
   ]
  },
  {
   "cell_type": "code",
   "execution_count": 56,
   "metadata": {},
   "outputs": [
    {
     "name": "stderr",
     "output_type": "stream",
     "text": [
      "C:\\Users\\pedro\\AppData\\Local\\Temp/ipykernel_7232/4250863661.py:7: UserWarning: color is redundantly defined by the 'color' keyword argument and the fmt string \"k:\" (-> color='k'). The keyword argument will take precedence.\n",
      "  plt.plot([n, n], [0, 1.0],'k:', color =\"red\")\n"
     ]
    },
    {
     "data": {
      "image/png": "[encoded data removed]",
      "text/plain": [
       "<Figure size 432x288 with 1 Axes>"
      ]
     },
     "metadata": {
      "needs_background": "light"
     },
     "output_type": "display_data"
    }
   ],
   "source": [
    "fig, ax = plt.subplots()\n",
    "ax.set_ylim(bottom=0)\n",
    "\n",
    "plt.xlabel('Quantidade de Clientes')\n",
    "plt.ylabel('Probabilidade de Classificação')\n",
    "plt.axis([0.0, Qt, 0, 1.0])\n",
    "plt.plot([n, n], [0, 1.0],'k:', color =\"red\")\n",
    "\n",
    "ax.set_yticks(np.linspace(0, 1, num=5))\n",
    "plt.plot(probs_modelo)\n",
    "plt.savefig(\"prob_interna.png\")\n",
    "plt.show()"
   ]
  },
  {
   "cell_type": "markdown",
   "metadata": {},
   "source": [
    "#### 3.2 Calibração"
   ]
  },
  {
   "cell_type": "code",
   "execution_count": 57,
   "metadata": {},
   "outputs": [
    {
     "data": {
      "text/plain": [
       "CalibratedClassifierCV(base_estimator=GaussianNB(var_smoothing=1e-08),\n",
       "                       cv='prefit', method='isotonic')"
      ]
     },
     "execution_count": 57,
     "metadata": {},
     "output_type": "execute_result"
    }
   ],
   "source": [
    "from sklearn.calibration import CalibratedClassifierCV\n",
    "\n",
    "calibrated_clf = CalibratedClassifierCV(base_estimator=best_model, method='isotonic', cv='prefit')\n",
    "calibrated_clf.fit(X_train.values, y_train['y'].values)"
   ]
  },
  {
   "cell_type": "code",
   "execution_count": 58,
   "metadata": {},
   "outputs": [
    {
     "name": "stderr",
     "output_type": "stream",
     "text": [
      "c:\\Users\\pedro\\AppData\\Local\\Programs\\Python\\Python38\\lib\\site-packages\\sklearn\\base.py:443: UserWarning: X has feature names, but GaussianNB was fitted without feature names\n",
      "  warnings.warn(\n"
     ]
    },
    {
     "data": {
      "text/plain": [
       "0.11222743346107619"
      ]
     },
     "execution_count": 58,
     "metadata": {},
     "output_type": "execute_result"
    }
   ],
   "source": [
    "probs = calibrated_clf.predict_proba(X_test)[:,1]\n",
    "probs = np.sort(probs)[::-1]\n",
    "\n",
    "prob_media = probs[0:Qt+1].sum()/Qt\n",
    "prob_media"
   ]
  },
  {
   "cell_type": "code",
   "execution_count": 59,
   "metadata": {},
   "outputs": [
    {
     "name": "stderr",
     "output_type": "stream",
     "text": [
      "C:\\Users\\pedro\\AppData\\Local\\Temp/ipykernel_7232/2889581323.py:7: UserWarning: color is redundantly defined by the 'color' keyword argument and the fmt string \"k:\" (-> color='k'). The keyword argument will take precedence.\n",
      "  plt.plot([0.0, Qt], [prob_media, prob_media],'k:', color =\"red\")\n"
     ]
    },
    {
     "data": {
      "image/png": "[encoded data removed]",
      "text/plain": [
       "<Figure size 432x288 with 1 Axes>"
      ]
     },
     "metadata": {
      "needs_background": "light"
     },
     "output_type": "display_data"
    }
   ],
   "source": [
    "fig, ax = plt.subplots()\n",
    "ax.set_ylim(bottom=0)\n",
    "\n",
    "plt.xlabel('Quantidade de Clientes')\n",
    "plt.ylabel('Probabilidade de Aceitação')\n",
    "plt.axis([0.0, Qt, 0, 1.0])\n",
    "plt.plot([0.0, Qt], [prob_media, prob_media],'k:', color =\"red\")\n",
    "\n",
    "ax.set_yticks(np.append(np.linspace(0, 1, num=5), round(prob_media,2)))\n",
    "plt.plot(probs)\n",
    "plt.savefig(\"prob_calibrada.png\")\n",
    "plt.show()"
   ]
  },
  {
   "cell_type": "markdown",
   "metadata": {},
   "source": [
    "### Formulação Matemática:\n",
    "\n",
    "#### Definições Gerais:\n",
    "- Custo por ligação: $c$\n",
    "- Retorno para o banco por produto contratado: $r$\n",
    "- Retorno total para o banco: $R$\n",
    "- Quantidade de clientes: $q$\n",
    "- Quantidade Total de clientes: $Q_t$\n",
    "- Contratos Contratados: $c_c$\n",
    "- Probabilidade de contratação do cliente $i$: $p_i$\n",
    "\n",
    "#### Modelo de Negócios Atual:\n",
    "- Quantidade atual de clientes: $Q_0 = Q_t$\n",
    "- Retorno atual para o banco: $R_0$\n",
    "\n",
    "Assim, se a porcentagem média de contratos é $p_m$ (~11.3%), espera-se receber:\n",
    "\n",
    "$R_0  = rE[c_c] - cQ_t = Q_t(p_m r - c)$\n",
    "\n",
    "#### Modelo de Negócios Sugerido:\n",
    "- Quantidade de Clientes: $Q$\n",
    "- Retorno atual para o banco: $R$\n",
    "\n",
    "Nesse cenário:\n",
    "\n",
    "- Quantidade de Contratos Contratados: $C_c = E[c_c] = \\int p \\; dq = \\sum_{i = 1}^{Q} p_i$\n",
    "- Custo total: $cQ$ \n",
    "- Retorno atual para o banco: $R = r\\left(\\sum_{i = 1}^{Q} p_i\\right) - cQ  $"
   ]
  },
  {
   "cell_type": "markdown",
   "metadata": {},
   "source": [
    "### Valores Adotados:\n",
    "\n",
    "- Retorno líquido por venda: $r = 5.00 \\text{ }R\\$ $ \n",
    "\n",
    "- Custo por ligação: $c = 0.50 \\text{ }R\\$$ \n",
    "\n",
    "### Retorno Atual:\n",
    "\n",
    "$R_0 = cQ_t = Q_t(p_m r - c) = 1161.00 R\\$$\n",
    "\n",
    "### Novo Retorno:\n",
    "\n",
    "- Escolher $Q$  de modo que $R(Q) = \\max R(q)$"
   ]
  },
  {
   "cell_type": "code",
   "execution_count": 60,
   "metadata": {},
   "outputs": [],
   "source": [
    "c = 0.75\n",
    "r = 5"
   ]
  },
  {
   "cell_type": "markdown",
   "metadata": {},
   "source": [
    "#### Retorno Considerando Todas as Ligações para o Modelo Calibrado"
   ]
  },
  {
   "cell_type": "code",
   "execution_count": 61,
   "metadata": {},
   "outputs": [
    {
     "name": "stdout",
     "output_type": "stream",
     "text": [
      "O Atual retorno esperado é R0 = -1524.03 R$, no caso em que a quantidade de ligações é 8238.\n"
     ]
    }
   ],
   "source": [
    "prob_media = 0.113 # = probs[0:Qt+1].sum()/Qt\n",
    "\n",
    "R0 = (r*prob_media-c)*Qt\n",
    "print(f'O Atual retorno esperado é R0 = {R0:.2f} R$, no caso em que a quantidade de ligações é {Qt}.')"
   ]
  },
  {
   "cell_type": "markdown",
   "metadata": {},
   "source": [
    "#### Maximizando o Retorno"
   ]
  },
  {
   "cell_type": "code",
   "execution_count": 62,
   "metadata": {},
   "outputs": [
    {
     "name": "stdout",
     "output_type": "stream",
     "text": [
      "O Máximo retorno esperado R = 1361.61 R$, ocorre para o caso em que a quantidade de ligações é 1049.\n"
     ]
    }
   ],
   "source": [
    "# Novo Retorno Esperado\n",
    "qmax = -1\n",
    "Rmax = 0\n",
    "\n",
    "for q in range(Qt):\n",
    "    R = r*probs[0:q+1].sum()-c*q\n",
    "    if R > Rmax:\n",
    "        Rmax = R\n",
    "        qmax = q + 1\n",
    "\n",
    "print(f'O Máximo retorno esperado R = {Rmax:.2f} R$, ocorre para o caso em que a quantidade de ligações é {qmax}.')"
   ]
  },
  {
   "cell_type": "code",
   "execution_count": 63,
   "metadata": {},
   "outputs": [
    {
     "data": {
      "image/png": "[encoded data removed]",
      "text/plain": [
       "<Figure size 432x288 with 1 Axes>"
      ]
     },
     "metadata": {
      "needs_background": "light"
     },
     "output_type": "display_data"
    }
   ],
   "source": [
    "from matplotlib.patches import Polygon\n",
    "\n",
    "fig, ax = plt.subplots()\n",
    "ax.set_ylim(bottom=0)\n",
    "\n",
    "plt.xlabel('Quantidade de Clientes')\n",
    "plt.ylabel('Probabilidade de Aceitação')\n",
    "plt.axis([0.0, Qt, 0, 1.0])\n",
    "\n",
    "ax.text(1100, 0.03, r\"$E[P_c] = \\int p \\; dq$\", horizontalalignment='center', fontsize=12)\n",
    "lim_x = qmax\n",
    "ix = np.linspace(0, lim_x-1)\n",
    "iy = np.take(probs, ix.astype(int))\n",
    "verts = [(0, 0), *zip(ix, iy), (lim_x, 0)]\n",
    "poly = Polygon(verts, facecolor='0.9', edgecolor='0.5')\n",
    "ax.add_patch(poly)\n",
    "\n",
    "ax.set_yticks(np.append(np.linspace(0, 1, num=5), round(probs[qmax],2)))\n",
    "plt.plot(probs)\n",
    "plt.savefig(\"integral.png\")\n",
    "plt.show()"
   ]
  }
 ],
 "metadata": {
  "interpreter": {
   "hash": "619a2c144b765fd82d26484b6dd9a39f4de95b0d9fdc7e7507645a5afc0818fa"
  },
  "kernelspec": {
   "display_name": "Python 3.8.10 64-bit",
   "language": "python",
   "name": "python3"
  },
  "language_info": {
   "codemirror_mode": {
    "name": "ipython",
    "version": 3
   },
   "file_extension": ".py",
   "mimetype": "text/x-python",
   "name": "python",
   "nbconvert_exporter": "python",
   "pygments_lexer": "ipython3",
   "version": "3.8.10"
  },
  "orig_nbformat": 4
 },
 "nbformat": 4,
 "nbformat_minor": 2
}
